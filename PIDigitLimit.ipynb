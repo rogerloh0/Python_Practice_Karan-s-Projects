{
 "cells": [
  {
   "cell_type": "code",
   "execution_count": 2,
   "metadata": {
    "collapsed": false
   },
   "outputs": [
    {
     "name": "stdout",
     "output_type": "stream",
     "text": [
      "Please enter how many decimal points you wish to allow your PI: 5\n",
      "3.14159\n"
     ]
    }
   ],
   "source": [
    "import math\n",
    "X = input(\"Please enter how many decimal points you wish to allow your PI: \")\n",
    "#print(type(int(X)))\n",
    "print(round(math.pi,int(X)))\n",
    "#newPi = round(math.pi, X)\n",
    "#print(type(newPi))"
   ]
  },
  {
   "cell_type": "code",
   "execution_count": null,
   "metadata": {
    "collapsed": false
   },
   "outputs": [
    {
     "name": "stdout",
     "output_type": "stream",
     "text": [
      "Welcome to Pi Calculator. In the shell below Enter the number of digits upto which the value of Pi should be calculated or enter quit to exit\n",
      ">>> 5\n",
      "3.14159\n",
      ">>> "
     ]
    }
   ],
   "source": [
    "\"\"\"\n",
    "Name: pi.py\n",
    "Purpose: Get the value of Pi to n number of decimal places\n",
    "Author: Pradipta (geekpradd)\n",
    "Algorithm: Chudnovsky Algorithm\n",
    "License: MIT\n",
    "Module Dependencies:\n",
    "Math provides fast square rooting\n",
    "Decimal gives the Decimal data type which is much better than Float\n",
    "sys is needed to set the depth for recursion.\n",
    "\"\"\"\n",
    "from __future__ import print_function\n",
    "import math, sys\n",
    "from decimal import *\n",
    "getcontext().rounding = ROUND_FLOOR\n",
    "sys.setrecursionlimit(100000)\n",
    "\n",
    "python2 = sys.version_info[0] == 2\n",
    "if python2:\n",
    "\tinput = raw_input\n",
    "\n",
    "def factorial(n):\n",
    "\t\"\"\"\n",
    "\tReturn the Factorial of a number using recursion\n",
    "\tParameters:\n",
    "\tn -- Number to get factorial of\n",
    "\t\"\"\"\n",
    "\tif not n:\n",
    "\t\treturn 1\n",
    "\treturn n*factorial(n-1)\n",
    "\n",
    "\n",
    "def getIteratedValue(k):\n",
    "\t\"\"\"\n",
    "\tReturn the Iterations as given in the Chudnovsky Algorithm.\n",
    "\tk iterations gives k-1 decimal places.. Since we need k decimal places\n",
    "\tmake iterations equal to k+1\n",
    "\t\n",
    "\tParameters:\n",
    "\tk  -- Number of Decimal Digits to get\n",
    "\t\"\"\"\n",
    "\tk = k+1\n",
    "\tgetcontext().prec = k\n",
    "\tsum=0\n",
    "\tfor k in range(k):\n",
    "\t\tfirst = factorial(6*k)*(13591409+545140134*k)\n",
    "\t\tdown = factorial(3*k)*(factorial(k))**3*(640320**(3*k))\n",
    "\t\tsum += first/down \n",
    "\treturn Decimal(sum) \n",
    "\n",
    "def getValueOfPi(k):\n",
    "\t\"\"\"\n",
    "\tReturns the calculated value of Pi using the iterated value of the loop\n",
    "\tand some division as given in the Chudnovsky Algorithm\n",
    "\tParameters:\n",
    "\tk -- Number of Decimal Digits upto which the value of Pi should be calculated\n",
    "\t\"\"\"\n",
    "\titer = getIteratedValue(k)\n",
    "\tup = 426880*math.sqrt(10005)\n",
    "\tpi = Decimal(up)/iter \n",
    "\t\n",
    "\treturn pi\n",
    "\n",
    "def shell():\n",
    "\t\"\"\"\n",
    "\tConsole Function to create the interactive Shell.\n",
    "\tRuns only when __name__ == __main__ that is when the script is being called directly\n",
    "\tNo return value and Parameters\n",
    "\t\"\"\"\n",
    "\tprint (\"Welcome to Pi Calculator. In the shell below Enter the number of digits upto which the value of Pi should be calculated or enter quit to exit\")\n",
    "\n",
    "\twhile True:\n",
    "\t\tprint (\">>> \", end='')\n",
    "\t\tentry = input()\n",
    "\t\tif entry == \"quit\":\n",
    "\t\t\tbreak\n",
    "\t\tif not entry.isdigit():\n",
    "\t\t\tprint (\"You did not enter a number. Try again\")\n",
    "\t\telse:\n",
    "\t\t\tprint (getValueOfPi(int(entry)))\n",
    "\n",
    "if __name__=='__main__':\n",
    "\tshell()"
   ]
  },
  {
   "cell_type": "code",
   "execution_count": null,
   "metadata": {
    "collapsed": true
   },
   "outputs": [],
   "source": []
  },
  {
   "cell_type": "code",
   "execution_count": null,
   "metadata": {
    "collapsed": true
   },
   "outputs": [],
   "source": []
  }
 ],
 "metadata": {
  "anaconda-cloud": {},
  "kernelspec": {
   "display_name": "Python [conda root]",
   "language": "python",
   "name": "conda-root-py"
  },
  "language_info": {
   "codemirror_mode": {
    "name": "ipython",
    "version": 3
   },
   "file_extension": ".py",
   "mimetype": "text/x-python",
   "name": "python",
   "nbconvert_exporter": "python",
   "pygments_lexer": "ipython3",
   "version": "3.5.2"
  }
 },
 "nbformat": 4,
 "nbformat_minor": 1
}
